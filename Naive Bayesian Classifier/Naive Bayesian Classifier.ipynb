{
 "cells": [
  {
   "cell_type": "code",
   "execution_count": 1,
   "metadata": {},
   "outputs": [],
   "source": [
    "import numpy as np\n",
    "import pandas as pd\n",
    "import math\n",
    "from sklearn.model_selection import train_test_split "
   ]
  },
  {
   "cell_type": "code",
   "execution_count": 2,
   "metadata": {},
   "outputs": [],
   "source": [
    "wine_data = pd.read_csv('wine.data')\n",
    "wine_data = np.array(wine_data)\n",
    "wine_class = wine_data[:,0]\n",
    "wine_dat = wine_data[:,1:]\n",
    "X_train, X_test, y_train, y_test = train_test_split(wine_dat, \n",
    "                                                    wine_class,\n",
    "                                                    test_size=0.3,\n",
    "                                                    random_state=1)"
   ]
  },
  {
   "cell_type": "code",
   "execution_count": 3,
   "metadata": {},
   "outputs": [],
   "source": [
    "separated = {1:[],2:[],3:[]}\n",
    "num,atri = X_train.shape\n",
    "for i in range(num):\n",
    "    separated[y_train[i]].append(X_train[i])  \n",
    "    \n",
    "avgstd = {1:[],2:[],3:[]}\n",
    "for i in range(3):\n",
    "    avgstd[i+1].append(np.mean(separated[i+1],axis=0))\n",
    "    avgstd[i+1].append(np.std(separated[i+1], axis=0, ddof=1))"
   ]
  },
  {
   "cell_type": "code",
   "execution_count": 10,
   "metadata": {},
   "outputs": [],
   "source": [
    "inputdata = X_test\n",
    "numt,atrit = X_test.shape\n",
    "likelihood = np.ones(3)\n",
    "prid = np.zeros(numt)\n",
    "clanum = 1/(np.sqrt(2*math.pi))\n",
    "for n in range(numt):\n",
    "    for i in range(3):\n",
    "        for j in range(atri):\n",
    "            mean = avgstd[i+1][0][j]\n",
    "            std = avgstd[i+1][1][j]\n",
    "            temp = (clanum/mean) * np.exp((-(inputdata[n,j] - mean)**2)/(2* std**2))\n",
    "            likelihood[i] *= temp\n",
    "    prid[n] = likelihood.argmax()+1\n",
    "    likelihood1 = likelihood\n",
    "    likelihood = np.ones(3)"
   ]
  },
  {
   "cell_type": "code",
   "execution_count": 5,
   "metadata": {},
   "outputs": [
    {
     "data": {
      "text/plain": [
       "array([2., 2., 1., 2., 1., 3., 2., 1., 2., 2., 1., 1., 2., 2., 2., 2., 3.,\n",
       "       1., 2., 1., 1., 2., 3., 2., 2., 2., 1., 1., 1., 2., 3., 3., 3., 1.,\n",
       "       2., 2., 2., 3., 2., 1., 1., 2., 2., 1., 1., 1., 2., 1., 1., 2., 2.,\n",
       "       2., 3., 1.])"
      ]
     },
     "execution_count": 5,
     "metadata": {},
     "output_type": "execute_result"
    }
   ],
   "source": [
    "prid"
   ]
  },
  {
   "cell_type": "code",
   "execution_count": 6,
   "metadata": {},
   "outputs": [
    {
     "data": {
      "text/plain": [
       "array([2., 2., 1., 2., 1., 3., 2., 1., 2., 2., 1., 1., 2., 1., 2., 2., 3.,\n",
       "       1., 2., 1., 1., 2., 3., 2., 1., 2., 1., 1., 1., 2., 3., 3., 3., 1.,\n",
       "       2., 2., 2., 3., 2., 1., 1., 2., 2., 1., 1., 1., 2., 1., 1., 2., 2.,\n",
       "       2., 3., 1.])"
      ]
     },
     "execution_count": 6,
     "metadata": {},
     "output_type": "execute_result"
    }
   ],
   "source": [
    "y_test"
   ]
  },
  {
   "cell_type": "code",
   "execution_count": 11,
   "metadata": {},
   "outputs": [
    {
     "name": "stdout",
     "output_type": "stream",
     "text": [
      "Accuracy: 96.29629629629629\n"
     ]
    }
   ],
   "source": [
    "n = 0\n",
    "for i in range(numt):\n",
    "    if prid[i] == y_test[i]:\n",
    "        n += 1\n",
    "n /= numt\n",
    "n *= 100\n",
    "print('Accuracy:',n)"
   ]
  }
 ],
 "metadata": {
  "kernelspec": {
   "display_name": "Python 3",
   "language": "python",
   "name": "python3"
  },
  "language_info": {
   "codemirror_mode": {
    "name": "ipython",
    "version": 3
   },
   "file_extension": ".py",
   "mimetype": "text/x-python",
   "name": "python",
   "nbconvert_exporter": "python",
   "pygments_lexer": "ipython3",
   "version": "3.8.8"
  }
 },
 "nbformat": 4,
 "nbformat_minor": 4
}
