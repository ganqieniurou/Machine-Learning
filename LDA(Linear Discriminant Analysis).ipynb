{
 "cells": [
  {
   "cell_type": "markdown",
   "id": "0683314d",
   "metadata": {},
   "source": [
    "## 8.2 Linear Discriminant Analysis ##\n",
    "### 8.2.1 numpy ###"
   ]
  },
  {
   "cell_type": "code",
   "execution_count": 1,
   "id": "2a43db99",
   "metadata": {},
   "outputs": [],
   "source": [
    "import numpy as np\n",
    "import matplotlib.pyplot as plt\n",
    "from sklearn import datasets"
   ]
  },
  {
   "cell_type": "code",
   "execution_count": 2,
   "id": "3aa878e2",
   "metadata": {},
   "outputs": [],
   "source": [
    "class LDA(object):\n",
    "    \n",
    "    \"\"\"\n",
    "    将相应的类别与数据匹配\n",
    "    \"\"\"\n",
    "    def _class_seprate(self):                                   #数据配对\n",
    "        class_data = {}                                         #各类别对应的数据\n",
    "        class_num = {}                                          #各类别对应的数量\n",
    "        for i in range(self.num):\n",
    "            if self.target[i] not in class_data:\n",
    "                class_data[self.target[i]] = []\n",
    "                class_num[self.target[i]] = 0\n",
    "            class_data[self.target[i]].append(self.data[i])\n",
    "            class_num[self.target[i]] +=1\n",
    "        return class_data,class_num\n",
    "    \n",
    "    \"\"\"\n",
    "    计算组内均值及总体均值 \n",
    "    \"\"\"\n",
    "    def _cal_mean(self):                                               \n",
    "        class_mean = {}\n",
    "        for i in self.class_num:\n",
    "            class_mean[i] = np.mean(self.class_data[i],axis=0)\n",
    "        tmean = np.mean(self.data,axis=0)\n",
    "        return  class_mean,tmean     \n",
    "    \n",
    "    \"\"\"\n",
    "    Linear Discriminant Analysis\n",
    "    参数\n",
    "    ------\n",
    "    solver: 计算方法，包括计算协方差矩阵特征值特征向量(eig)以及奇异值分解(svd)\n",
    "    components: 降维后的维度\n",
    "    data: 数据\n",
    "    target: 类别\n",
    "    feature: 特征数量\n",
    "    num: 样本数量\n",
    "    class_data: 各类别包含的数据\n",
    "    class_num: 各类别的样本数量\n",
    "    class_mean: 各类别的均值\n",
    "    tmean: 总体均值\n",
    "    Sw: 组内散度矩阵\n",
    "    Sb: 组间散度矩阵\n",
    "    St: 总散度矩阵\n",
    "    w: 降维矩阵\n",
    "    eig_val: 特征值\n",
    "    eig_vec: 特征向量\n",
    "    返回值\n",
    "    -------\n",
    "    transformed: 降维后各个类别的数据\n",
    "    \"\"\"\n",
    "    def __init__(self,components,data,target,solver = 'eigen'):\n",
    "        self.solver = solver                                    #方法\n",
    "        self.components = components                            #降维后的维度\n",
    "        self.data = data                                        #数据\n",
    "        self.target = target                                    #类别\n",
    "        self.feature = self.data.shape[1]                       #数据特征数量\n",
    "        self.num = self.data.shape[0]                           #样本数量\n",
    "        self.class_data,self.class_num = self._class_seprate()  #数据配对\n",
    "        self.class_mean,self.tmean = self._cal_mean()           #均值\n",
    "        self.Sw = np.zeros([self.feature,self.feature])         #组内散度矩阵\n",
    "        self.Sb = np.zeros([self.feature,self.feature])         #组间散度矩阵\n",
    "        self.St = np.zeros([self.feature,self.feature])         #总散度矩阵\n",
    "        self.w = np.zeros([self.feature,self.components])       #降维矩阵\n",
    "        self.eig_val = np.zeros([self.feature])                 #特征值\n",
    "        self.eig_vec = np.zeros([self.feature,self.feature])    #特征向量\n",
    "    \n",
    "    \"\"\"\n",
    "    计算散度\n",
    "    \"\"\"\n",
    "    def _cal_scat(self):                                        \n",
    "        for i in self.class_data:\n",
    "            _temp = self.class_data[i] - self.class_mean[i]     #组内散度\n",
    "            self.Sw += (_temp.T).dot(_temp)\n",
    "            _temp = self.class_data[i] - self.tmean             #总散度\n",
    "            self.St += (_temp.T).dot(_temp)\n",
    "        self.Sb = self.St - self.Sw                             #组间散度\n",
    "    \n",
    "    \"\"\"\n",
    "    计算Sw-1*Sb的特征值特征向量\n",
    "    \"\"\"\n",
    "    def _cal_eigen(self):\n",
    "        self.eig_val,self.eig_vec = np.linalg.eig(np.linalg.inv(self.Sw).dot(self.Sb)) \n",
    "    \n",
    "#    def _svd(self):                                             #svd计算矩阵特征值特征向量\n",
    "#后续添加\n",
    "\n",
    "     \n",
    "    \"\"\"\n",
    "    将特征向量特征值配对，按特征值从大到小排列，取出前components个特征向量构建矩阵w\n",
    "    \"\"\"     \n",
    "    def _generate_matrix(self):\n",
    "        eig_pairs = [(np.abs(self.eig_val[i]), self.eig_vec[:,i]) for i in range(len(self.eig_val))]\n",
    "        eig_pairs.sort(key=lambda x: x[0], reverse=True)       #配对排序\n",
    "        for i in range(self.components):\n",
    "            self.w[:,i] = eig_pairs[i][1].reshape(self.feature,)          #构造矩阵\n",
    "    \n",
    "    def run(self):\n",
    "        transformed = {}\n",
    "        self._cal_scat()\n",
    "        if self.solver == 'eigen':\n",
    "            self._cal_eigen()\n",
    "        if self.solver == 'svd':\n",
    "            self._cal_eigen()\n",
    "        self._generate_matrix()        \n",
    "            \n",
    "        for i in self.class_data:\n",
    "            self.class_data[i] -= self.tmean\n",
    "            transformed[i] = np.array(self.class_data[i]).dot(self.w)\n",
    "        return transformed"
   ]
  },
  {
   "cell_type": "code",
   "execution_count": 3,
   "id": "86698dcf",
   "metadata": {},
   "outputs": [],
   "source": [
    "irisset = datasets.load_iris()\n",
    "irissettarget = np.array(irisset.target)\n",
    "irisset = np.array(irisset.data)\n",
    "mylda = LDA(2,irisset,irissettarget)\n",
    "mytransformed = mylda.run()"
   ]
  },
  {
   "cell_type": "code",
   "execution_count": 4,
   "id": "d39c3338",
   "metadata": {},
   "outputs": [
    {
     "data": {
      "image/png": "[encoded data removed]",
      "text/plain": [
       "<Figure size 432x288 with 1 Axes>"
      ]
     },
     "metadata": {
      "needs_background": "light"
     },
     "output_type": "display_data"
    }
   ],
   "source": [
    "plt.plot(mytransformed[0][:,0], mytransformed[0][:,1], 'o', markersize=5, color='blue', alpha=0.5, label='class1')\n",
    "plt.plot(mytransformed[1][:,0], mytransformed[1][:,1], 'o', markersize=5, color='red', alpha=0.5, label='class2')\n",
    "plt.plot(mytransformed[2][:,0], mytransformed[2][:,1], 'o', markersize=5, color='green', alpha=0.5, label='class3')\n",
    "plt.xlabel('x_values')\n",
    "plt.ylabel('y_values')\n",
    "plt.legend()\n",
    "plt.show()"
   ]
  },
  {
   "cell_type": "markdown",
   "id": "65528651",
   "metadata": {},
   "source": [
    "### 8.2.2 sklearn package ###"
   ]
  },
  {
   "cell_type": "code",
   "execution_count": 5,
   "id": "206da98b",
   "metadata": {},
   "outputs": [],
   "source": [
    "import numpy as np\n",
    "import matplotlib.pyplot as plt\n",
    "from sklearn import datasets\n",
    "from sklearn.discriminant_analysis import LinearDiscriminantAnalysis\n",
    "irisset = datasets.load_iris()\n",
    "irissettarget = np.array(irisset.target)\n",
    "irisset = np.array(irisset.data)"
   ]
  },
  {
   "cell_type": "code",
   "execution_count": 6,
   "id": "393aac87",
   "metadata": {},
   "outputs": [],
   "source": [
    "lda = LinearDiscriminantAnalysis(n_components=2)\n",
    "transformed = lda.fit(irisset,irissettarget).transform(irisset)"
   ]
  },
  {
   "cell_type": "code",
   "execution_count": 7,
   "id": "4fcc587a",
   "metadata": {},
   "outputs": [
    {
     "data": {
      "image/png": "[encoded data removed]",
      "text/plain": [
       "<Figure size 432x288 with 1 Axes>"
      ]
     },
     "metadata": {
      "needs_background": "light"
     },
     "output_type": "display_data"
    }
   ],
   "source": [
    "plt.plot(transformed[0:50,0], transformed[0:50,1], 'o', markersize=5, color='blue', alpha=0.5, label='class1')\n",
    "plt.plot(transformed[50:100,0], transformed[50:100,1], 'o', markersize=5, color='red', alpha=0.5, label='class2')\n",
    "plt.plot(transformed[100:150,0], transformed[100:150,1], 'o', markersize=5, color='green', alpha=0.5, label='class3')\n",
    "plt.xlabel('x_values')\n",
    "plt.ylabel('y_values')\n",
    "plt.legend()\n",
    "plt.show()"
   ]
  }
 ],
 "metadata": {
  "kernelspec": {
   "display_name": "Python 3",
   "language": "python",
   "name": "python3"
  },
  "language_info": {
   "codemirror_mode": {
    "name": "ipython",
    "version": 3
   },
   "file_extension": ".py",
   "mimetype": "text/x-python",
   "name": "python",
   "nbconvert_exporter": "python",
   "pygments_lexer": "ipython3",
   "version": "3.8.8"
  }
 },
 "nbformat": 4,
 "nbformat_minor": 5
}
