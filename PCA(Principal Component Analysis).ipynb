{
 "cells": [
  {
   "cell_type": "markdown",
   "id": "3f89177f",
   "metadata": {},
   "source": [
    "## 8.1Principal Component Analysis ##\n",
    "### 8.1.1 numpy ###"
   ]
  },
  {
   "cell_type": "code",
   "execution_count": 13,
   "id": "61d3c4fb",
   "metadata": {},
   "outputs": [],
   "source": [
    "import numpy as np\n",
    "import matplotlib.pyplot as plt\n",
    "from sklearn import datasets"
   ]
  },
  {
   "cell_type": "code",
   "execution_count": 14,
   "id": "186b4745",
   "metadata": {},
   "outputs": [],
   "source": [
    "class PCA(object):\n",
    "    \"\"\"\n",
    "    参数\n",
    "    ------\n",
    "    solver: 计算方法，包括计算协方差矩阵特征值特征向量(eig)以及奇异值分解(svd)\n",
    "    components: 降维后的维度\n",
    "    data: 数据\n",
    "    feature: 特征数量\n",
    "    num: 样本数量\n",
    "    cov_mat: 协方差矩阵\n",
    "    w: 降维矩阵\n",
    "    eig_val: 特征值\n",
    "    eig_vec: 特征向量\n",
    "    \n",
    "    返回值\n",
    "    -------\n",
    "    transformed: 降维后的数据\n",
    "    \"\"\"\n",
    "    def __init__(self,components,data,solver = 'svd'):\n",
    "        self.solver = solver                                    #方法\n",
    "        self.components = components                            #降维后的维度\n",
    "        self.data = data                                        #数据\n",
    "        self.feature = self.data.shape[1]                       #数据特征数量\n",
    "        self.num = self.data.shape[0]                           #样本数量\n",
    "        self.mean = np.zeros([self.feature])                    #均值\n",
    "        self.cov_mat = np.zeros([self.feature,self.feature])    #协方差矩阵\n",
    "        self.w = np.zeros([self.feature,self.components])       #降维矩阵\n",
    "        self.eig_val = np.zeros([self.feature])                 #特征值\n",
    "        self.eig_vec = np.zeros([self.feature,self.feature])    #特征向量\n",
    "        \n",
    "    \"\"\"\n",
    "    计算均值并零均值化\n",
    "    \"\"\"    \n",
    "    def _zero_center(self):\n",
    "\n",
    "        self.mean = np.mean(self.data,axis=0)                   \n",
    "        self.data -= self.mean\n",
    "        \n",
    "    \"\"\"\n",
    "    eig方法：计算协方差矩阵并计算其特征值特征向量\n",
    "    \"\"\"        \n",
    "    def _cal_eigen(self):\n",
    "        self.cov_mat = np.cov(self.data.T)                      \n",
    "        self.eig_val,self.eig_vec = np.linalg.eig(self.cov_mat) \n",
    "    \n",
    "    \"\"\"\n",
    "    svd方法：奇异值分解，sigma矩阵和右奇异矩阵对应eig方法中的特征值及特征向量\n",
    "    \"\"\"       \n",
    "    def _svd(self):                                             \n",
    "\n",
    "        self.eig_val,self.eig_vec = np.linalg.svd(mypca.data)[1:3]\n",
    "        self.eig_vec = self.eig_vec.T\n",
    "    \n",
    "    \"\"\"\n",
    "    将特征向量特征值配对，按特征值从大到小排列，取出前components个特征向量构建矩阵w\n",
    "    \"\"\"          \n",
    "    def _generate_matrix(self):\n",
    " \n",
    "        eig_pairs = [(np.abs(self.eig_val[i]), self.eig_vec[:,i]) for i in range(len(self.eig_val))]\n",
    "        eig_pairs.sort(key=lambda x: x[0], reverse=True)       #配对排序\n",
    "        for i in range(self.components):\n",
    "            self.w[:,i] = eig_pairs[i][1].reshape(self.feature,)          #构造矩阵\n",
    "    \n",
    "    def run(self):\n",
    "        self._zero_center()\n",
    "        if self.solver == 'eigen':\n",
    "            self._cal_eigen()\n",
    "        if self.solver == 'svd':\n",
    "            self._svd()\n",
    "        self._generate_matrix()\n",
    "        transformed = self.data.dot(self.w)\n",
    "        return transformed"
   ]
  },
  {
   "cell_type": "code",
   "execution_count": 15,
   "id": "8e396187",
   "metadata": {},
   "outputs": [
    {
     "data": {
      "image/png": "[encoded data removed]",
      "text/plain": [
       "<Figure size 432x288 with 1 Axes>"
      ]
     },
     "metadata": {
      "needs_background": "light"
     },
     "output_type": "display_data"
    }
   ],
   "source": [
    "irisset = datasets.load_iris()\n",
    "irisset = np.array(irisset.data)\n",
    "mypca = PCA(2,irisset)\n",
    "transformed = mypca.run()\n",
    "plt.plot(transformed[0:50,0], transformed[0:50,1], 'o', markersize=5, color='blue', alpha=0.5, label='setosa')\n",
    "plt.plot(transformed[50:100,0], transformed[50:100,1], 'o', markersize=5, color='red', alpha=0.5, label='versicolor')\n",
    "plt.plot(transformed[100:150,0], transformed[100:150,1], 'o', markersize=5, color='green', alpha=0.5, label='virginica')\n",
    "plt.xlim([-4,4])\n",
    "plt.ylim([-1.5,1.5])\n",
    "plt.xlabel('x_values')\n",
    "plt.ylabel('y_values')\n",
    "plt.legend()\n",
    "plt.show()"
   ]
  },
  {
   "cell_type": "markdown",
   "id": "6d71d5ff",
   "metadata": {},
   "source": [
    "### 8.1.2 sklearn package ###"
   ]
  },
  {
   "cell_type": "code",
   "execution_count": 16,
   "id": "1724719e",
   "metadata": {},
   "outputs": [],
   "source": [
    "import numpy as np\n",
    "import matplotlib.pyplot as plt\n",
    "from sklearn import datasets,decomposition"
   ]
  },
  {
   "cell_type": "code",
   "execution_count": 17,
   "id": "029d5145",
   "metadata": {},
   "outputs": [],
   "source": [
    "irisset = datasets.load_iris()\n",
    "irisset = np.array(irisset.data)\n",
    "irisset = np.array(irisset)"
   ]
  },
  {
   "cell_type": "code",
   "execution_count": 18,
   "id": "6eca869d",
   "metadata": {},
   "outputs": [],
   "source": [
    "pca = decomposition.PCA(n_components=2,svd_solver='randomized')"
   ]
  },
  {
   "cell_type": "code",
   "execution_count": 19,
   "id": "2dfa2da4",
   "metadata": {},
   "outputs": [],
   "source": [
    "sktransformed = pca.fit_transform(irisset)"
   ]
  },
  {
   "cell_type": "code",
   "execution_count": 20,
   "id": "bc0a0825",
   "metadata": {},
   "outputs": [
    {
     "data": {
      "image/png": "[encoded data removed]",
      "text/plain": [
       "<Figure size 432x288 with 1 Axes>"
      ]
     },
     "metadata": {
      "needs_background": "light"
     },
     "output_type": "display_data"
    }
   ],
   "source": [
    "plt.plot(sktransformed[0:50,0], sktransformed[0:50,1], 'o', markersize=5, color='blue', alpha=0.5, label='setosa')\n",
    "plt.plot(sktransformed[50:100,0], sktransformed[50:100,1], 'o', markersize=5, color='red', alpha=0.5, label='versicolor')\n",
    "plt.plot(sktransformed[100:150,0], sktransformed[100:150,1], 'o', markersize=5, color='green', alpha=0.5, label='virginica')\n",
    "plt.xlim([-4,4])\n",
    "plt.ylim([-1.5,1.5])\n",
    "plt.xlabel('x_values')\n",
    "plt.ylabel('y_values')\n",
    "plt.legend()\n",
    "plt.show()"
   ]
  },
  {
   "cell_type": "code",
   "execution_count": null,
   "id": "a818a2fa",
   "metadata": {},
   "outputs": [],
   "source": []
  }
 ],
 "metadata": {
  "kernelspec": {
   "display_name": "Python 3",
   "language": "python",
   "name": "python3"
  },
  "language_info": {
   "codemirror_mode": {
    "name": "ipython",
    "version": 3
   },
   "file_extension": ".py",
   "mimetype": "text/x-python",
   "name": "python",
   "nbconvert_exporter": "python",
   "pygments_lexer": "ipython3",
   "version": "3.8.8"
  }
 },
 "nbformat": 4,
 "nbformat_minor": 5
}
